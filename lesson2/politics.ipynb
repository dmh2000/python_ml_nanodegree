{
 "cells": [
  {
   "cell_type": "code",
   "execution_count": 4,
   "metadata": {
    "collapsed": true
   },
   "outputs": [
    {
     "name": "stdout",
     "output_type": "stream",
     "text": [
      "0.005000000000000001\n0.06999999999999999\n0.075\n"
     ]
    }
   ],
   "source": [
    "# ----------------------\n",
    "# P(Jill Stein)\n",
    "p_j = 0.5\n",
    "\n",
    "# P(freedom | J)\n",
    "p_fj = 0.1\n",
    "\n",
    "# P(immigration | J)\n",
    "p_ij = 0.1\n",
    "\n",
    "# P(environment | J)\n",
    "p_ej = 0.8\n",
    "\n",
    "p_j_text = p_j * p_fj * p_ij\n",
    "\n",
    "print(p_j_text)\n",
    "\n",
    "# ----------------------\n",
    "# P(Gary Johnson)\n",
    "p_g = 0.5\n",
    "\n",
    "# P(freedom | G)\n",
    "p_fg = 0.7\n",
    "\n",
    "# P(immigration | G)\n",
    "p_ig = 0.2\n",
    "\n",
    "# P(environment | J)\n",
    "p_eg = 0.1\n",
    "\n",
    "p_g_text = p_g * p_fg * p_ig\n",
    "\n",
    "print(p_g_text)\n",
    "\n",
    "# ------------------------\n",
    "p_f_i = p_j_text + p_g_text\n",
    "print(p_f_i)"
   ]
  },
  {
   "cell_type": "code",
   "execution_count": 5,
   "metadata": {},
   "outputs": [
    {
     "name": "stdout",
     "output_type": "stream",
     "text": [
      "0.075\n"
     ]
    }
   ],
   "source": [
    "print(p_f_i)"
   ]
  },
  {
   "cell_type": "code",
   "execution_count": 7,
   "metadata": {},
   "outputs": [
    {
     "name": "stdout",
     "output_type": "stream",
     "text": [
      "jill steing says freedom and immigration  0.06666666666666668\n"
     ]
    }
   ],
   "source": [
    "# P(J|F,I) = (P(J) * P(F|J) * P(I|J)) / P(F,I)\n",
    "p_j_fi = (p_j * p_fj * p_ij) / p_f_i\n",
    "print('jill stein says freedom and immigration ', p_j_fi)"
   ]
  },
  {
   "cell_type": "code",
   "execution_count": 8,
   "metadata": {},
   "outputs": [
    {
     "name": "stdout",
     "output_type": "stream",
     "text": [
      "gary johnson says freedom and immigration 0.9333333333333332\n"
     ]
    }
   ],
   "source": [
    "# P(G | F,I) = (P(G) * P(F|G) * P(I|G)) / P(F,I)\n",
    "p_g_fi = (p_g * p_fg * p_ig) / p_f_i\n",
    "print('gary johnson says freedom and immigration',p_g_fi)"
   ]
  },
  {
   "cell_type": "code",
   "execution_count": null,
   "metadata": {},
   "outputs": [],
   "source": [
    ""
   ]
  }
 ],
 "metadata": {
  "kernelspec": {
   "display_name": "Python 2",
   "language": "python",
   "name": "python2"
  },
  "language_info": {
   "codemirror_mode": {
    "name": "ipython",
    "version": 2.0
   },
   "file_extension": ".py",
   "mimetype": "text/x-python",
   "name": "python",
   "nbconvert_exporter": "python",
   "pygments_lexer": "ipython2",
   "version": "2.7.6"
  }
 },
 "nbformat": 4,
 "nbformat_minor": 0
}